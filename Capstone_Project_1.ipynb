{
 "cells": [
  {
   "cell_type": "markdown",
   "metadata": {},
   "source": [
    "# Capstone Project: The Battle of Neighborhood (Part I)"
   ]
  },
  {
   "cell_type": "markdown",
   "metadata": {},
   "source": [
    " ## Introduction/Business Problem"
   ]
  },
  {
   "cell_type": "markdown",
   "metadata": {},
   "source": [
    "The main purpose of this project is to find a proper location for a restaurant in Texas. Assuming my client is an American from an other state (not from Texas), I am trying to work for him/her. Since, we don't know what type of restaurants (such as american, indian, asian etc.) are popular in Texas so first we would like to study on it. Then we will study the population density and per capita income in different cities in Texas. In addition to this, crowded and popular locations of the city is judged by the availability of the other venues such as restaurants, shopping malls, and other recreational venues. In essence, the summary of the project will be divided into two parts as follow:\n",
    "* Part 1: Data collection\n",
    "* Part 2: Solving the problem based on population, population density, per capita income, and popular venues. Foursquare API is used in this work to access the different venues in the Texas state.\n"
   ]
  },
  {
   "cell_type": "markdown",
   "metadata": {},
   "source": [
    " ## Description of Data"
   ]
  },
  {
   "cell_type": "markdown",
   "metadata": {},
   "source": [
    "##### Wikipedia Sources\n",
    "* https://en.wikipedia.org/wiki/List_of_United_States_cities_by_population\n",
    "* https://en.wikipedia.org/wiki/List_of_Texas_locations_by_per_capita_income"
   ]
  },
  {
   "cell_type": "markdown",
   "metadata": {},
   "source": [
    "##### Foursquare API\n",
    "* For different venues in the city"
   ]
  },
  {
   "cell_type": "markdown",
   "metadata": {},
   "source": [
    " ## Methodology"
   ]
  },
  {
   "cell_type": "markdown",
   "metadata": {},
   "source": [
    "* Wikipedia data is used to get the population density, per capita income, population, cities, and the locations of the cities. Using web scrapping technique we can easily get these information from the wikipedia.\n",
    "* The raw tables from the wikipedia is post-processed. Then a simple dataframe is prepared.\n",
    "* Graphical visualization technique was used to see it on the Texas map.\n",
    "* Foursquare API is accessed by using my client ID and Client secret.\n",
    "* The locations (latitude and longitude) of the cities are used to extract the venues from Foursquare API.\n",
    "* A word cloud of the restaurants was prepared to visualize the most popular restaurant types in Texas.\n",
    "* Benchmarks are set for the venues for further calculations.\n",
    "* Based on benchmarks the most suitable city for restaurant is selected.\n",
    "* Then I estimate the most suitable location of the city for the restaurant."
   ]
  },
  {
   "cell_type": "code",
   "execution_count": null,
   "metadata": {},
   "outputs": [],
   "source": []
  }
 ],
 "metadata": {
  "kernelspec": {
   "display_name": "Python",
   "language": "python",
   "name": "conda-env-python-py"
  },
  "language_info": {
   "codemirror_mode": {
    "name": "ipython",
    "version": 3
   },
   "file_extension": ".py",
   "mimetype": "text/x-python",
   "name": "python",
   "nbconvert_exporter": "python",
   "pygments_lexer": "ipython3",
   "version": "3.6.7"
  }
 },
 "nbformat": 4,
 "nbformat_minor": 4
}
